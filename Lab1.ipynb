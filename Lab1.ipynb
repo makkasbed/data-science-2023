{
    "cells": [
        {
            "cell_type": "markdown",
            "metadata": {
                "collapsed": true
            },
            "source": "# My Jupyter Notebook on IBM Watson Studio"
        },
        {
            "cell_type": "markdown",
            "metadata": {},
            "source": "**Adu Asare Bediako**\n\nSoftware Developer"
        },
        {
            "cell_type": "markdown",
            "metadata": {},
            "source": "I am interested in data science because I want to find insights in all data available to me."
        },
        {
            "cell_type": "markdown",
            "metadata": {},
            "source": "The following code adds two numbers together i.e. 1 + 1"
        },
        {
            "cell_type": "code",
            "execution_count": 1,
            "metadata": {},
            "outputs": [
                {
                    "data": {
                        "text/plain": "2"
                    },
                    "execution_count": 1,
                    "metadata": {},
                    "output_type": "execute_result"
                }
            ],
            "source": "1+1"
        },
        {
            "cell_type": "markdown",
            "metadata": {},
            "source": "### Data Management Tools\n1. RDBMS: MySQL, PostgreSQL\n2. NoSQL: CouchDB, MongoDB\n\n### Data Integration and Transformation Tools\n- Airflow\n- Kubeflow\n- Nifi\n- Kafka\n\n### Data Visualization Tools\n* Pixie Dust\n* Hue\n* Kibana\n* SuperSet\n\n\n\n### Monitoring\n\n|Tool | Type |\n----------------\n|ModelDB | OpenSource |\n|Prometheus | Opensource |\n"
        },
        {
            "cell_type": "code",
            "execution_count": null,
            "metadata": {},
            "outputs": [],
            "source": ""
        }
    ],
    "metadata": {
        "kernelspec": {
            "display_name": "Python 3.10",
            "language": "python",
            "name": "python3"
        },
        "language_info": {
            "codemirror_mode": {
                "name": "ipython",
                "version": 3
            },
            "file_extension": ".py",
            "mimetype": "text/x-python",
            "name": "python",
            "nbconvert_exporter": "python",
            "pygments_lexer": "ipython3",
            "version": "3.10.9"
        }
    },
    "nbformat": 4,
    "nbformat_minor": 1
}